{
  "nbformat": 4,
  "nbformat_minor": 0,
  "metadata": {
    "colab": {
      "provenance": [],
      "toc_visible": true,
      "authorship_tag": "ABX9TyPI1CJMBTMVz2IBwVbwNbbS",
      "include_colab_link": true
    },
    "kernelspec": {
      "name": "python3",
      "display_name": "Python 3"
    },
    "language_info": {
      "name": "python"
    }
  },
  "cells": [
    {
      "cell_type": "markdown",
      "metadata": {
        "id": "view-in-github",
        "colab_type": "text"
      },
      "source": [
        "<a href=\"https://colab.research.google.com/github/shivangKheradiya/Python/blob/PythonProblemSet/1.%20GCD%20or%20HCF.ipynb\" target=\"_parent\"><img src=\"https://colab.research.google.com/assets/colab-badge.svg\" alt=\"Open In Colab\"/></a>"
      ]
    },
    {
      "cell_type": "markdown",
      "source": [
        "GCD Will be in range from 1 to the minimum of all the given number. Here, we will use % operator(gives the remainer) functionality in the python."
      ],
      "metadata": {
        "id": "QuptKMx3IaXd"
      }
    },
    {
      "cell_type": "code",
      "execution_count": 1,
      "metadata": {
        "id": "ARrzrIqe_IOl"
      },
      "outputs": [],
      "source": [
        "def gcd(m,n):\n",
        "  gcdList = []\n",
        "  for i in range (1, min(m,n) + 1):\n",
        "    if (m%i) == 0 and (n %i) == 0:\n",
        "      gcdList.append(i)\n",
        "  return gcdList[-1 ]"
      ]
    }
  ]
}