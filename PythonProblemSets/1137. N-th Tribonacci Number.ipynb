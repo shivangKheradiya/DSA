{
 "cells": [
  {
   "cell_type": "markdown",
   "metadata": {},
   "source": [
    "# 1137. N-th Tribonacci Number\n",
    "\n",
    "https://leetcode.com/problems/n-th-tribonacci-number/submissions/"
   ]
  },
  {
   "cell_type": "code",
   "execution_count": null,
   "metadata": {},
   "outputs": [],
   "source": [
    "class Solution:\n",
    "    def tribonacci(self, n: int) -> int:\n",
    "        if n == 0:\n",
    "          return 0\n",
    "        elif n < 3:\n",
    "            return 1\n",
    "        x , y , z = 0 , 1 , 1\n",
    "        for i in range(3,n+1):\n",
    "          ans = x + y + z\n",
    "          x = y\n",
    "          y = z\n",
    "          z = ans\n",
    "        return ans"
   ]
  },
  {
   "cell_type": "code",
   "execution_count": null,
   "metadata": {},
   "outputs": [],
   "source": [
    "x = Solution()\n",
    "p = x.tribonacci(5)\n",
    "p"
   ]
  }
 ],
 "metadata": {
  "kernelspec": {
   "display_name": "Python 3",
   "language": "python",
   "name": "python3"
  },
  "language_info": {
   "codemirror_mode": {
    "name": "ipython",
    "version": 3
   },
   "file_extension": ".py",
   "mimetype": "text/x-python",
   "name": "python",
   "nbconvert_exporter": "python",
   "pygments_lexer": "ipython3",
   "version": "3.12.0"
  }
 },
 "nbformat": 4,
 "nbformat_minor": 2
}
