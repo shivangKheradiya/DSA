{
 "cells": [
  {
   "cell_type": "markdown",
   "metadata": {},
   "source": [
    "# 881. Boats to Save People\n",
    "\n",
    "https://leetcode.com/problems/boats-to-save-people/"
   ]
  },
  {
   "cell_type": "code",
   "execution_count": null,
   "metadata": {},
   "outputs": [],
   "source": [
    "class Solution:\n",
    "  def numRescueBoats(self, people, limit: int) -> int:\n",
    "    people.sort()\n",
    "    curL, curR , boats = 0 , len(people) -1 , 0\n",
    "\n",
    "    while curL < curR:\n",
    "      if people[curL] + people[curR] <= limit:\n",
    "        curL, curR = curL+1, curR-1\n",
    "      else:\n",
    "        curR -= 1\n",
    "      boats += 1\n",
    "\n",
    "    if curL==curR:\n",
    "      boats +=1\n",
    "\n",
    "    return  boats"
   ]
  },
  {
   "cell_type": "code",
   "execution_count": null,
   "metadata": {},
   "outputs": [],
   "source": [
    "x = Solution()\n",
    "lst = [3,2,2,1]\n",
    "lmt = 3\n",
    "ans = x.numRescueBoats(lst,lmt)\n",
    "print(ans)"
   ]
  },
  {
   "cell_type": "markdown",
   "metadata": {},
   "source": [
    "Alternatively Small & optimise Code,"
   ]
  },
  {
   "cell_type": "code",
   "execution_count": null,
   "metadata": {},
   "outputs": [],
   "source": [
    "class Solution:\n",
    "    def numRescueBoats(self, people, limit: int) -> int:\n",
    "        people.sort()\n",
    "        i=count=0\n",
    "        j=len(people)-1\n",
    "        while(i<=j):\n",
    "          if people[i]+people[j]<=limit:\n",
    "            i+=1\n",
    "          count+=1\n",
    "          j-=1\n",
    "        return count"
   ]
  }
 ],
 "metadata": {
  "kernelspec": {
   "display_name": "Python 3",
   "language": "python",
   "name": "python3"
  },
  "language_info": {
   "codemirror_mode": {
    "name": "ipython",
    "version": 3
   },
   "file_extension": ".py",
   "mimetype": "text/x-python",
   "name": "python",
   "nbconvert_exporter": "python",
   "pygments_lexer": "ipython3",
   "version": "3.12.0"
  }
 },
 "nbformat": 4,
 "nbformat_minor": 2
}
