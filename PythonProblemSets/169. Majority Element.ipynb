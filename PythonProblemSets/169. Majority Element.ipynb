{
 "cells": [
  {
   "cell_type": "markdown",
   "metadata": {},
   "source": [
    "# 169. Majority Element\n",
    "\n",
    "https://leetcode.com/problems/majority-element/"
   ]
  },
  {
   "cell_type": "code",
   "execution_count": null,
   "metadata": {},
   "outputs": [],
   "source": [
    "class Solution:\n",
    "  def majorityElement(self, nums) -> int:\n",
    "    numsLen = len(nums)\n",
    "    numsSet = set(nums)\n",
    "    for num in numsSet:\n",
    "      if nums.count(num) > numsLen / 2:\n",
    "        return num"
   ]
  },
  {
   "cell_type": "code",
   "execution_count": null,
   "metadata": {},
   "outputs": [],
   "source": [
    "nums = [3,2,3]\n",
    "x = Solution()\n",
    "p = x.majorityElement(nums)\n",
    "\n",
    "print(p)"
   ]
  },
  {
   "cell_type": "markdown",
   "metadata": {},
   "source": [
    "There are some looping techniques and finding elements simultanously,"
   ]
  },
  {
   "cell_type": "code",
   "execution_count": null,
   "metadata": {},
   "outputs": [],
   "source": [
    "l = [1, 1, 2, 2, 2, 3, 3, 4, 4, 5, 5] \n",
    "ele=1\n",
    "x=[i for i in l if i==ele] \n",
    "print(x)"
   ]
  },
  {
   "cell_type": "code",
   "execution_count": null,
   "metadata": {},
   "outputs": [],
   "source": [
    "class Solution:\n",
    "  def majorityElement(self, nums) -> int:\n",
    "    numsLen = len(nums)\n",
    "    numsCount = {}\n",
    "    for i in nums:\n",
    "      if numsCount.keys().__contains__(i): # Alternatively we can i in nums as per below code\n",
    "        numsCount[i] += 1\n",
    "      else:\n",
    "        numsCount[i] = 1\n",
    "    return [x for x in numsCount.keys() if numsCount[x] > numsLen / 2][0]"
   ]
  },
  {
   "cell_type": "code",
   "execution_count": null,
   "metadata": {},
   "outputs": [],
   "source": [
    "class Solution:\n",
    "  def majorityElement(self, nums) -> int:\n",
    "    numsLen = len(nums)\n",
    "    numsCount = {}\n",
    "    for i in nums:\n",
    "      if i in numsCount:\n",
    "        numsCount[i] += 1\n",
    "      else:\n",
    "        numsCount[i] = 1\n",
    "    return [x for x in numsCount.keys() if numsCount[x] > numsLen / 2][0]"
   ]
  },
  {
   "cell_type": "markdown",
   "metadata": {},
   "source": [
    "We can resolve it by sorting it and finding element at index n//2,"
   ]
  },
  {
   "cell_type": "code",
   "execution_count": null,
   "metadata": {},
   "outputs": [],
   "source": [
    "class Solution:\n",
    "  def majorityElement(self, nums) -> int:\n",
    "    nums = sorted(nums)\n",
    "    return nums[len(nums)//2]"
   ]
  }
 ],
 "metadata": {
  "kernelspec": {
   "display_name": "Python 3",
   "language": "python",
   "name": "python3"
  },
  "language_info": {
   "codemirror_mode": {
    "name": "ipython",
    "version": 3
   },
   "file_extension": ".py",
   "mimetype": "text/x-python",
   "name": "python",
   "nbconvert_exporter": "python",
   "pygments_lexer": "ipython3",
   "version": "3.12.0"
  }
 },
 "nbformat": 4,
 "nbformat_minor": 2
}
