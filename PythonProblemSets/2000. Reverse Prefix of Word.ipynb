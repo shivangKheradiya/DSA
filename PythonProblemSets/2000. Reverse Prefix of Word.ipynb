{
 "cells": [
  {
   "cell_type": "markdown",
   "metadata": {},
   "source": [
    "# 2000. Reverse Prefix of Word\n",
    "\n",
    "https://leetcode.com/problems/reverse-prefix-of-word/"
   ]
  },
  {
   "cell_type": "code",
   "execution_count": null,
   "metadata": {},
   "outputs": [],
   "source": [
    "class Solution:\n",
    "  def reversePrefix(self, word: str, ch: str) -> str:\n",
    "    lst = []\n",
    "    idx = 0\n",
    "    for i in word:\n",
    "      if i == ch:\n",
    "        lst.append(word[idx + 1:])\n",
    "        break\n",
    "      else:\n",
    "        idx += 1\n",
    "    rLen = len(word[:idx+1])\n",
    "    wLen = len(word)\n",
    "    if idx == wLen or idx == 0:  # if the string length is 1 and same character or character not found\n",
    "      return word\n",
    "    curser = 0\n",
    "    while idx > curser and idx < wLen:\n",
    "      lst.insert(curser, word[curser])\n",
    "      lst.insert(curser, word[idx])\n",
    "      idx -= 1\n",
    "      curser += 1\n",
    "    if rLen%2 == 1:\n",
    "      lst.insert(curser, word[curser])\n",
    "    return (\"\".join(lst))"
   ]
  },
  {
   "cell_type": "code",
   "execution_count": null,
   "metadata": {},
   "outputs": [],
   "source": [
    "x = Solution()\n",
    "word = 'abcdefd'\n",
    "ch = 'd'\n",
    "p = x.reversePrefix(word,ch)\n",
    "print(p)"
   ]
  },
  {
   "cell_type": "code",
   "execution_count": null,
   "metadata": {},
   "outputs": [],
   "source": [
    "word = \"xyxzxe\"\n",
    "ch = \"z\"\n",
    "p = x.reversePrefix(word,ch)\n",
    "print(p)"
   ]
  },
  {
   "cell_type": "code",
   "execution_count": null,
   "metadata": {},
   "outputs": [],
   "source": [
    "word = \"abcd\"\n",
    "ch = \"z\"\n",
    "p = x.reversePrefix(word,ch)\n",
    "print(p)"
   ]
  },
  {
   "cell_type": "code",
   "execution_count": null,
   "metadata": {},
   "outputs": [],
   "source": [
    "word = \"j\"\n",
    "ch = \"j\"\n",
    "p = x.reversePrefix(word,ch)\n",
    "print(p)"
   ]
  },
  {
   "cell_type": "code",
   "execution_count": null,
   "metadata": {},
   "outputs": [],
   "source": [
    "word = \"lweefee\"\n",
    "ch =\"f\"\n",
    "p = x.reversePrefix(word,ch)\n",
    "print(p)"
   ]
  }
 ],
 "metadata": {
  "kernelspec": {
   "display_name": "Python 3",
   "language": "python",
   "name": "python3"
  },
  "language_info": {
   "codemirror_mode": {
    "name": "ipython",
    "version": 3
   },
   "file_extension": ".py",
   "mimetype": "text/x-python",
   "name": "python",
   "nbconvert_exporter": "python",
   "pygments_lexer": "ipython3",
   "version": "3.12.0"
  }
 },
 "nbformat": 4,
 "nbformat_minor": 2
}
