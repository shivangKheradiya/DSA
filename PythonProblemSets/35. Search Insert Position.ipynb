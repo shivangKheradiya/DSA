{
 "cells": [
  {
   "cell_type": "markdown",
   "metadata": {},
   "source": [
    "# 35. Search Insert Position\n",
    "\n",
    "https://leetcode.com/problems/search-insert-position/"
   ]
  },
  {
   "cell_type": "code",
   "execution_count": null,
   "metadata": {},
   "outputs": [],
   "source": [
    "class Solution:\n",
    "  def searchInsert(self, nums, target) -> int:\n",
    "    lenNums = len(nums)\n",
    "    if lenNums == 0:\n",
    "      return 0\n",
    "    mid = lenNums // 2\n",
    "    \n",
    "    if(lenNums == 1):\n",
    "      if nums[mid] >= target:\n",
    "        return mid\n",
    "      else:\n",
    "        return mid + 1\n",
    "    elif(target >= nums[mid]):\n",
    "      return mid + self.searchInsert(nums[mid:], target )\n",
    "    elif(target < nums[mid]):\n",
    "      return self.searchInsert(nums[:mid], target )"
   ]
  },
  {
   "cell_type": "code",
   "execution_count": null,
   "metadata": {},
   "outputs": [],
   "source": [
    "nums = [1,3,5,6]\n",
    "target = 2\n",
    "x = Solution()\n",
    "x.searchInsert(nums, target)"
   ]
  }
 ],
 "metadata": {
  "kernelspec": {
   "display_name": "Python 3",
   "language": "python",
   "name": "python3"
  },
  "language_info": {
   "codemirror_mode": {
    "name": "ipython",
    "version": 3
   },
   "file_extension": ".py",
   "mimetype": "text/x-python",
   "name": "python",
   "nbconvert_exporter": "python",
   "pygments_lexer": "ipython3",
   "version": "3.12.0"
  }
 },
 "nbformat": 4,
 "nbformat_minor": 2
}
