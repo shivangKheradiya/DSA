{
 "cells": [
  {
   "cell_type": "markdown",
   "metadata": {},
   "source": [
    "# 2441. Largest Positive Integer That Exists With Its Negative\n",
    "\n",
    "https://leetcode.com/problems/largest-positive-integer-that-exists-with-its-negative/"
   ]
  },
  {
   "cell_type": "code",
   "execution_count": null,
   "metadata": {},
   "outputs": [],
   "source": [
    "class Solution:\n",
    "  def findMaxK(self, nums):\n",
    "    dSign = {}\n",
    "    maxNum = 0\n",
    "    for i in nums:\n",
    "      num = abs(i)\n",
    "      cSign = i>0\n",
    "      if dSign.keys().__contains__(num) and cSign != dSign[num]:\n",
    "        maxNum = max(num, maxNum)\n",
    "      else:\n",
    "        dSign[num] = cSign\n",
    "\n",
    "    if maxNum == 0:\n",
    "      maxNum = -1\n",
    "\n",
    "    return maxNum"
   ]
  },
  {
   "cell_type": "code",
   "execution_count": null,
   "metadata": {},
   "outputs": [],
   "source": [
    "x = Solution()\n",
    "nums = [-1,2,-3,3]\n",
    "i = x.findMaxK(nums)\n",
    "print(i)"
   ]
  },
  {
   "cell_type": "code",
   "execution_count": null,
   "metadata": {},
   "outputs": [],
   "source": [
    "class Solution:\n",
    "  def findMaxK(self, nums):\n",
    "    dSign = {}\n",
    "    maxNum = 0\n",
    "    for i in nums:\n",
    "      num = abs(i)\n",
    "      cSign = i>0\n",
    "      try:\n",
    "        if cSign != dSign[num]:\n",
    "          maxNum = num if nums > maxNum else maxNum\n",
    "      except:\n",
    "        dSign[num] = cSign\n",
    "\n",
    "    if maxNum == 0:\n",
    "      maxNum = -1\n",
    "\n",
    "    return maxNum"
   ]
  }
 ],
 "metadata": {
  "kernelspec": {
   "display_name": "Python 3",
   "language": "python",
   "name": "python3"
  },
  "language_info": {
   "codemirror_mode": {
    "name": "ipython",
    "version": 3
   },
   "file_extension": ".py",
   "mimetype": "text/x-python",
   "name": "python",
   "nbconvert_exporter": "python",
   "pygments_lexer": "ipython3",
   "version": "3.12.0"
  }
 },
 "nbformat": 4,
 "nbformat_minor": 2
}
