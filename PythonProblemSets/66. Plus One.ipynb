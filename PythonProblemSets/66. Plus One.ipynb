{
 "cells": [
  {
   "cell_type": "markdown",
   "metadata": {},
   "source": [
    "# 66. Plus One\n",
    "\n",
    "https://leetcode.com/problems/plus-one/"
   ]
  },
  {
   "cell_type": "code",
   "execution_count": null,
   "metadata": {},
   "outputs": [],
   "source": [
    "class Solution:\n",
    "  def plusOne(self, digits):\n",
    "    lenDigigs = len(digits)\n",
    "    digits[lenDigigs - 1] += 1\n",
    "    for i in range(lenDigigs, 0, -1):\n",
    "      idx = i - 1\n",
    "      if digits[idx] == 10:\n",
    "        digits[idx] = 0\n",
    "        previousidx = idx - 1\n",
    "        if previousidx >=0:\n",
    "          digits[previousidx] +=1\n",
    "        else:\n",
    "          digits.insert(0,1)\n",
    "      else:\n",
    "        return digits\n",
    "    return digits"
   ]
  },
  {
   "cell_type": "code",
   "execution_count": null,
   "metadata": {},
   "outputs": [],
   "source": [
    "digits = [1,2,3]\n",
    "x = Solution()\n",
    "x.plusOne(digits)"
   ]
  },
  {
   "cell_type": "markdown",
   "metadata": {},
   "source": [
    "Reduced Code for the same logic,"
   ]
  },
  {
   "cell_type": "code",
   "execution_count": null,
   "metadata": {},
   "outputs": [],
   "source": [
    "class Solution:\n",
    "  def plusOne(self, digits):\n",
    "    idxDigigs = len(digits) - 1\n",
    "    for i in range(idxDigigs, -1, -1):\n",
    "      if digits[i] < 9:\n",
    "        digits[i] += 1\n",
    "        return digits\n",
    "      digits[i] = 0\n",
    "    digits.insert(0,1)\n",
    "    return digits"
   ]
  },
  {
   "cell_type": "code",
   "execution_count": null,
   "metadata": {},
   "outputs": [],
   "source": [
    "digits = [9]\n",
    "x = Solution()\n",
    "x.plusOne(digits)"
   ]
  }
 ],
 "metadata": {
  "kernelspec": {
   "display_name": "Python 3",
   "language": "python",
   "name": "python3"
  },
  "language_info": {
   "codemirror_mode": {
    "name": "ipython",
    "version": 3
   },
   "file_extension": ".py",
   "mimetype": "text/x-python",
   "name": "python",
   "nbconvert_exporter": "python",
   "pygments_lexer": "ipython3",
   "version": "3.12.0"
  }
 },
 "nbformat": 4,
 "nbformat_minor": 2
}
