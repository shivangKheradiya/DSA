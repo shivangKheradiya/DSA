{
 "cells": [
  {
   "cell_type": "markdown",
   "metadata": {},
   "source": [
    "# 27. Remove Element\n",
    "\n",
    "https://leetcode.com/problems/remove-element/"
   ]
  },
  {
   "cell_type": "code",
   "execution_count": null,
   "metadata": {},
   "outputs": [],
   "source": [
    "class Solution:\n",
    "  def removeElement(self, nums, val) -> int:\n",
    "    curser1, curser2, lenNum , counter = 0 , len(nums) - 1 , len(nums), 0\n",
    "    \n",
    "    while (curser2 >= 0 and nums[curser2] == val):\n",
    "      counter += 1\n",
    "      curser2 -= 1\n",
    "\n",
    "    while (curser2 >= 0 and curser2 > curser1):\n",
    "      hasVal = False\n",
    "      if (nums[curser1] == val):\n",
    "        nums[curser1] , nums[curser2] = nums[curser2] , nums[curser1]\n",
    "        counter += 1\n",
    "        hasVal = True\n",
    "      while (nums[curser2] == val):\n",
    "        if hasVal != True:\n",
    "          counter += 1\n",
    "        else:\n",
    "          hasVal = False\n",
    "        curser2 -= 1\n",
    "      curser1 += 1\n",
    "    \n",
    "    if lenNum == 1 and nums[0] == val:\n",
    "      counter = 1\n",
    "    \n",
    "    #print (nums)\n",
    "    return (lenNum-counter)"
   ]
  },
  {
   "cell_type": "code",
   "execution_count": null,
   "metadata": {},
   "outputs": [],
   "source": [
    "nums = [3,2,2,3]\n",
    "x = Solution()\n",
    "x.removeElement( nums, 3)"
   ]
  },
  {
   "cell_type": "code",
   "execution_count": null,
   "metadata": {},
   "outputs": [],
   "source": [
    "nums = [0,1,2,2,3,0,4,2]\n",
    "x.removeElement(nums, 2)"
   ]
  },
  {
   "cell_type": "code",
   "execution_count": null,
   "metadata": {},
   "outputs": [],
   "source": [
    "nums = [3,3]\n",
    "x.removeElement(nums, 3)"
   ]
  }
 ],
 "metadata": {
  "kernelspec": {
   "display_name": "Python 3",
   "language": "python",
   "name": "python3"
  },
  "language_info": {
   "codemirror_mode": {
    "name": "ipython",
    "version": 3
   },
   "file_extension": ".py",
   "mimetype": "text/x-python",
   "name": "python",
   "nbconvert_exporter": "python",
   "pygments_lexer": "ipython3",
   "version": "3.12.0"
  }
 },
 "nbformat": 4,
 "nbformat_minor": 2
}
