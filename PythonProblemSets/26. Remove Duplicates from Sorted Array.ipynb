{
 "cells": [
  {
   "cell_type": "markdown",
   "metadata": {},
   "source": [
    "# 26. Remove Duplicates from Sorted Array\n",
    "\n",
    "https://leetcode.com/problems/remove-duplicates-from-sorted-array/"
   ]
  },
  {
   "cell_type": "code",
   "execution_count": null,
   "metadata": {},
   "outputs": [],
   "source": [
    "class Solution:\n",
    "  def removeDuplicates(self, nums) -> int:\n",
    "    counter , curser = 1 , 0\n",
    "    while (curser < len(nums) - 1 ):\n",
    "      if (nums[curser] != nums[curser+1]):\n",
    "        counter += 1\n",
    "      elif(nums[curser] == nums[curser+1]):\n",
    "        nums.pop(curser+1)\n",
    "        curser -= 1\n",
    "      curser += 1\n",
    "    print(nums)\n",
    "    return counter"
   ]
  },
  {
   "cell_type": "code",
   "execution_count": null,
   "metadata": {},
   "outputs": [],
   "source": [
    "nums = [0,0,1,1,1,2,2,3,3,4]\n",
    "x = Solution()\n",
    "x.removeDuplicates(nums)"
   ]
  },
  {
   "cell_type": "markdown",
   "metadata": {},
   "source": [
    "2 Pointer Approach"
   ]
  },
  {
   "cell_type": "code",
   "execution_count": null,
   "metadata": {},
   "outputs": [],
   "source": [
    "class Solution:\n",
    "  def removeDuplicates(self, nums) -> int:\n",
    "    curser1, curser2, lenNum , counter = 0 , 1 , len(nums), 1\n",
    "    while (curser2 <= lenNum - 1):\n",
    "      if (nums[curser1] != nums[curser2]):\n",
    "        curser1 += 1\n",
    "        nums[curser1] , nums[curser2] = nums[curser2] , nums[curser1] \n",
    "        counter += 1\n",
    "      curser2 += 1\n",
    "    \n",
    "    if lenNum == 1:\n",
    "      counter = 1\n",
    "    #print (nums)\n",
    "    return (counter)\n"
   ]
  }
 ],
 "metadata": {
  "kernelspec": {
   "display_name": "Python 3",
   "language": "python",
   "name": "python3"
  },
  "language_info": {
   "codemirror_mode": {
    "name": "ipython",
    "version": 3
   },
   "file_extension": ".py",
   "mimetype": "text/x-python",
   "name": "python",
   "nbconvert_exporter": "python",
   "pygments_lexer": "ipython3",
   "version": "3.12.0"
  }
 },
 "nbformat": 4,
 "nbformat_minor": 2
}
