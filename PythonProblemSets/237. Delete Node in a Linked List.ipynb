{
 "cells": [
  {
   "cell_type": "markdown",
   "metadata": {},
   "source": [
    "# 237. Delete Node in a Linked List\n",
    "\n",
    "https://leetcode.com/problems/delete-node-in-a-linked-list/description/"
   ]
  },
  {
   "cell_type": "code",
   "execution_count": null,
   "metadata": {},
   "outputs": [],
   "source": [
    "# Definition for singly-linked list.\n",
    "# class ListNode:\n",
    "#     def __init__(self, x):\n",
    "#         self.val = x\n",
    "#         self.next = None\n",
    "\n",
    "class Solution:\n",
    "  def deleteNode(self, node):\n",
    "    \"\"\"\n",
    "    :type node: ListNode\n",
    "    :rtype: void Do not return anything, modify node in-place instead.\n",
    "    \"\"\"\n",
    "    node.val, node.next = node.next.val, node.next.next"
   ]
  }
 ],
 "metadata": {
  "kernelspec": {
   "display_name": "Python 3",
   "language": "python",
   "name": "python3"
  },
  "language_info": {
   "name": "python",
   "version": "3.12.0"
  }
 },
 "nbformat": 4,
 "nbformat_minor": 2
}
