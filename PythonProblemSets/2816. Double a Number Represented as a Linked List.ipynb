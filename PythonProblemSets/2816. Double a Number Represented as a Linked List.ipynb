{
 "cells": [
  {
   "cell_type": "markdown",
   "metadata": {},
   "source": [
    "# 2816. Double a Number Represented as a Linked List\n",
    "\n",
    "https://leetcode.com/problems/double-a-number-represented-as-a-linked-list/description/"
   ]
  },
  {
   "cell_type": "code",
   "execution_count": 1,
   "metadata": {},
   "outputs": [],
   "source": [
    "class ListNode:\n",
    "  def __init__(self, val=0, next=None):\n",
    "    self.val = val\n",
    "    self.next = next\n",
    "\n",
    "class Solution:\n",
    "  def doubleIt(self, head):\n",
    "    headVal = head.val\n",
    "    if headVal == 0:\n",
    "      return head\n",
    "    elif headVal > 4 or head.next.val == 0:\n",
    "      newHead = ListNode(1,head)\n",
    "    elif head.next.val > 4 or head.next.val == 0 :\n",
    "      newHead = ListNode(headVal * 2 + 1 ,head.next)\n",
    "    else:\n",
    "      newHead = ListNode(headVal * 2 ,head.next)\n",
    "\n",
    "    currentHead = newHead.next\n",
    "    while currentHead.next:\n",
    "      currentHead.val = (2*currentHead.val +1)%10  if currentHead.next.val > 4 or currentHead.next.val == 0 else 2*currentHead.val\n",
    "      currentHead = currentHead.next\n",
    "\n",
    "    currentHead.val = (2*currentHead.val)%10 if currentHead.val > 4 or currentHead.val == 0 else 2*currentHead.val\n",
    "    return newHead"
   ]
  }
 ],
 "metadata": {
  "kernelspec": {
   "display_name": "Python 3",
   "language": "python",
   "name": "python3"
  },
  "language_info": {
   "codemirror_mode": {
    "name": "ipython",
    "version": 3
   },
   "file_extension": ".py",
   "mimetype": "text/x-python",
   "name": "python",
   "nbconvert_exporter": "python",
   "pygments_lexer": "ipython3",
   "version": "3.12.0"
  }
 },
 "nbformat": 4,
 "nbformat_minor": 2
}
