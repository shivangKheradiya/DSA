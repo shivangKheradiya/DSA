{
 "cells": [
  {
   "cell_type": "markdown",
   "metadata": {},
   "source": [
    "# 2370. Longest Ideal Subsequence\n",
    "\n",
    "https://leetcode.com/problems/longest-ideal-subsequence/"
   ]
  },
  {
   "cell_type": "code",
   "execution_count": 27,
   "metadata": {},
   "outputs": [
    {
     "name": "stdout",
     "output_type": "stream",
     "text": [
      "e - d -  - 1\n",
      "e - u - d - 16\n",
      "e - k - d - 6\n",
      "e - t - dk - 15\n",
      "e - d - dkt - 1\n",
      "e - b - dktd - 3\n",
      "d - u -  - 17\n",
      "d - k -  - 7\n",
      "d - t - k - 16\n",
      "d - d - k - 0\n",
      "d - b - kd - 2\n",
      "u - k -  - 10\n",
      "u - t - k - 1\n",
      "u - d - kt - 17\n",
      "u - b - kt - 19\n",
      "k - t -  - 9\n",
      "k - d - t - 7\n",
      "k - b - td - 9\n",
      "t - d -  - 16\n",
      "t - b -  - 18\n",
      "d - b -  - 2\n"
     ]
    },
    {
     "data": {
      "text/plain": [
       "5"
      ]
     },
     "execution_count": 27,
     "metadata": {},
     "output_type": "execute_result"
    }
   ],
   "source": [
    "class Solution:\n",
    "  def longestIdealString(self, s, k) -> int:\n",
    "    tLen = len(s)\n",
    "    maxIdealLen = 0\n",
    "    for itr1 in range(tLen):\n",
    "      string = \"\"\n",
    "      charSelected = s[itr1]\n",
    "      for itr2 in range(itr1 + 1,tLen):\n",
    "        diff = abs(ord(s[itr2]) - ord(charSelected))\n",
    "        \n",
    "        if (diff <= k):\n",
    "          string += charSelected\n",
    "          charSelected = s[itr2]\n",
    "        \n",
    "      length = len(string)\n",
    "      if(maxIdealLen < length):\n",
    "        maxIdealLen = length\n",
    "    return maxIdealLen\n",
    "\n",
    "x = Solution()\n",
    "p = x.longestIdealString(\"eduktdb\",15)\n",
    "p"
   ]
  },
  {
   "cell_type": "code",
   "execution_count": 28,
   "metadata": {},
   "outputs": [
    {
     "data": {
      "text/plain": [
       "6"
      ]
     },
     "execution_count": 28,
     "metadata": {},
     "output_type": "execute_result"
    }
   ],
   "source": [
    "import math\n",
    "x = abs( ord('a') - ord('b') )\n",
    "x = 'aaeser'\n",
    "p = len(x)\n",
    "p"
   ]
  }
 ],
 "metadata": {
  "kernelspec": {
   "display_name": "Python 3",
   "language": "python",
   "name": "python3"
  },
  "language_info": {
   "codemirror_mode": {
    "name": "ipython",
    "version": 3
   },
   "file_extension": ".py",
   "mimetype": "text/x-python",
   "name": "python",
   "nbconvert_exporter": "python",
   "pygments_lexer": "ipython3",
   "version": "3.12.0"
  }
 },
 "nbformat": 4,
 "nbformat_minor": 2
}
