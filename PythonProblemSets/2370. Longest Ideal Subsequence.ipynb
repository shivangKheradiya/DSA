{
 "cells": [
  {
   "cell_type": "markdown",
   "metadata": {},
   "source": [
    "# 2370. Longest Ideal Subsequence\n",
    "\n",
    "https://leetcode.com/problems/longest-ideal-subsequence/"
   ]
  },
  {
   "cell_type": "code",
   "execution_count": 5,
   "metadata": {},
   "outputs": [
    {
     "name": "stdout",
     "output_type": "stream",
     "text": [
      "a - c -  - 2\n",
      "a - f - a - 3\n",
      "a - g - a - 4\n",
      "a - b - a - 1\n",
      "a - d - ac - 2\n",
      "3\n",
      "c - f -  - 3\n",
      "c - g -  - 4\n",
      "c - b -  - 1\n",
      "c - d - c - 2\n",
      "2\n",
      "f - g -  - 1\n",
      "f - b - f - 5\n",
      "f - d - f - 3\n",
      "1\n",
      "g - b -  - 5\n",
      "g - d -  - 3\n",
      "0\n",
      "b - d -  - 2\n",
      "1\n",
      "0\n"
     ]
    },
    {
     "data": {
      "text/plain": [
       "3"
      ]
     },
     "execution_count": 5,
     "metadata": {},
     "output_type": "execute_result"
    }
   ],
   "source": [
    "class Solution:\n",
    "  def longestIdealString(self, s, k) -> int:\n",
    "    tLen = len(s)\n",
    "    maxIdealLen = 0\n",
    "    for itr1 in range(tLen):\n",
    "      string = \"\"\n",
    "      charSelected = s[itr1]\n",
    "      for itr2 in range(itr1 + 1,tLen):\n",
    "        diff = abs(ord(s[itr2]) - ord(charSelected))\n",
    "        print(s[itr1] , '-' ,s[itr2] , '-', string ,'-' , str(diff))\n",
    "        if (diff <= k):\n",
    "          string += charSelected\n",
    "          charSelected = s[itr2]\n",
    "        \n",
    "      length = len(string)\n",
    "      print(length)\n",
    "      if(maxIdealLen < length):\n",
    "        maxIdealLen = length\n",
    "    return maxIdealLen\n",
    "\n",
    "x = Solution()\n",
    "#p = x.longestIdealString(\"eduktdb\",15)\n",
    "p = x.longestIdealString(\"acfgbd\",2)\n",
    "p"
   ]
  },
  {
   "cell_type": "code",
   "execution_count": 28,
   "metadata": {},
   "outputs": [
    {
     "data": {
      "text/plain": [
       "6"
      ]
     },
     "execution_count": 28,
     "metadata": {},
     "output_type": "execute_result"
    }
   ],
   "source": [
    "import math\n",
    "x = abs( ord('a') - ord('b') )\n",
    "x = 'aaeser'\n",
    "p = len(x)\n",
    "p"
   ]
  }
 ],
 "metadata": {
  "kernelspec": {
   "display_name": "Python 3",
   "language": "python",
   "name": "python3"
  },
  "language_info": {
   "codemirror_mode": {
    "name": "ipython",
    "version": 3
   },
   "file_extension": ".py",
   "mimetype": "text/x-python",
   "name": "python",
   "nbconvert_exporter": "python",
   "pygments_lexer": "ipython3",
   "version": "3.12.0"
  }
 },
 "nbformat": 4,
 "nbformat_minor": 2
}
