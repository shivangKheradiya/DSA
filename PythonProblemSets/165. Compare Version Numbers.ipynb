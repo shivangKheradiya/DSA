{
 "cells": [
  {
   "cell_type": "markdown",
   "metadata": {},
   "source": [
    "# 165. Compare Version Numbers\n",
    "\n",
    "https://leetcode.com/problems/compare-version-numbers/"
   ]
  },
  {
   "cell_type": "code",
   "execution_count": null,
   "metadata": {},
   "outputs": [],
   "source": [
    "class Solution:\n",
    "  def compareVersion(self, version1: str, version2: str):\n",
    "    v1 = list(map(int, version1.split('.')))\n",
    "    v2 = list(map(int, version2.split('.')))\n",
    "    v1Len = len(v1)\n",
    "    v2Len = len(v2)\n",
    "    curser = 0\n",
    "    minLen = min(v1Len,v2Len)\n",
    "    while curser<minLen:\n",
    "      if v1[curser] > v2[curser]:\n",
    "        return 1\n",
    "      elif v1[curser] < v2[curser]:\n",
    "        return -1\n",
    "      curser += 1\n",
    "\n",
    "    if v1Len>v2Len:\n",
    "      while curser < v1Len:\n",
    "        if v1[curser] > 0:\n",
    "          return 1\n",
    "        curser += 1\n",
    "    else:\n",
    "      while curser<v2Len:\n",
    "        if v2[curser] > 0:\n",
    "          return -1\n",
    "        curser += 1\n",
    "    return 0"
   ]
  },
  {
   "cell_type": "code",
   "execution_count": null,
   "metadata": {},
   "outputs": [],
   "source": [
    "x = Solution()\n",
    "version1 = \"1.01.1\"\n",
    "version2 = \"1.001.00005\"\n",
    "p = x.compareVersion(version1, version2)\n",
    "print(p)"
   ]
  },
  {
   "cell_type": "markdown",
   "metadata": {},
   "source": [
    "Other optimum solution is to ittrate untill we find the (.) and compare the values,"
   ]
  },
  {
   "cell_type": "code",
   "execution_count": null,
   "metadata": {},
   "outputs": [],
   "source": [
    "class Solution:\n",
    "  def compareVersion(self, version1: str, version2: str) -> int:\n",
    "    l1 = len(version1)\n",
    "    l2 = len(version2)\n",
    "    i1 = 0\n",
    "    i2 = 0\n",
    "    while i1 < l1 or i2 < l2:\n",
    "      i1_next = i1\n",
    "      while i1_next < l1 and version1[i1_next] != '.':\n",
    "        i1_next += 1\n",
    "      i2_next = i2\n",
    "      while i2_next < l2 and version2[i2_next] != '.':\n",
    "        i2_next += 1\n",
    "      r1 = int(version1[i1:i1_next]) if i1 < l1 else 0\n",
    "      r2 = int(version2[i2:i2_next]) if i2 < l2 else 0\n",
    "      if r1 > r2:\n",
    "        return 1\n",
    "      if r2 > r1:\n",
    "        return -1\n",
    "      i1 = i1_next + 1\n",
    "      i2 = i2_next + 1\n",
    "    return 0"
   ]
  }
 ],
 "metadata": {
  "kernelspec": {
   "display_name": "Python 3",
   "language": "python",
   "name": "python3"
  },
  "language_info": {
   "codemirror_mode": {
    "name": "ipython",
    "version": 3
   },
   "file_extension": ".py",
   "mimetype": "text/x-python",
   "name": "python",
   "nbconvert_exporter": "python",
   "pygments_lexer": "ipython3",
   "version": "3.12.0"
  }
 },
 "nbformat": 4,
 "nbformat_minor": 2
}
