{
 "cells": [
  {
   "cell_type": "markdown",
   "metadata": {},
   "source": [
    "# 4. Median of Two Sorted Arrays\n",
    "\n",
    "https://leetcode.com/problems/median-of-two-sorted-arrays/"
   ]
  },
  {
   "cell_type": "code",
   "execution_count": null,
   "metadata": {},
   "outputs": [],
   "source": [
    "class Solution:\n",
    "    def findMedianSortedArrays(self, nums1, nums2) -> float:\n",
    "      m = len(nums1)\n",
    "      n = len(nums2)\n",
    "      itr = 0\n",
    "      tLen = m + n\n",
    "      isEven = (tLen) % 2 == 0\n",
    "      midIdx, mid = [] , []\n",
    "      \n",
    "      if (isEven):\n",
    "        midIdx.append(tLen / 2)\n",
    "      midIdx.append( (tLen//2) + 1)\n",
    "\n",
    "      maxItr = max(midIdx)\n",
    "      print(maxItr)\n",
    "      print(midIdx)\n",
    "      while itr < maxItr:\n",
    "        if m > 0 and n > 0:\n",
    "          minNum = min (nums1[0] , nums2[0])\n",
    "          print(minNum)\n",
    "          if minNum == nums1[0]:\n",
    "            nums1.pop(0)\n",
    "            m -= 1\n",
    "          else:\n",
    "            nums2.pop(0)\n",
    "            n -= 1\n",
    "        elif m == 0:\n",
    "          minNum = nums2[0]\n",
    "          nums2.pop(0)\n",
    "          n -= 1\n",
    "        elif n == 0:\n",
    "          minNum = nums1[0]\n",
    "          nums1.pop(0)\n",
    "          m -= 1\n",
    "        \n",
    "        if itr+1 in midIdx:\n",
    "          mid.append(minNum)\n",
    "        itr +=1\n",
    "      \n",
    "      if(isEven):\n",
    "        return sum(mid)/2\n",
    "      else:\n",
    "        return mid[0]\n",
    "\n",
    "#nums1 = [1,2]\n",
    "#nums2 = [3,4]\n",
    "\n",
    "nums1 = [1,3]\n",
    "nums2 = [2]\n",
    "\n",
    "x = Solution()\n",
    "p = x.findMedianSortedArrays(nums1,nums2)\n",
    "p"
   ]
  },
  {
   "cell_type": "code",
   "execution_count": null,
   "metadata": {},
   "outputs": [],
   "source": [
    "class Solution:\n",
    "  def findMedianSortedArrays(self, nums1, nums2) -> float:\n",
    "    l = sorted(nums1 + nums2)\n",
    "    print(l)\n",
    "    ln = len(l)\n",
    "    halfLn = ln // 2\n",
    "    print(halfLn)\n",
    "    isEven = ln % 2 == 0\n",
    "    if isEven:\n",
    "      return ( (l[halfLn] + l[halfLn - 1] ) / 2)\n",
    "    else:\n",
    "      return  l[halfLn]\n",
    "    \n",
    "nums1 = [1,2]\n",
    "nums2 = [3,4]\n",
    "x = Solution()\n",
    "p = x.findMedianSortedArrays(nums1,nums2)\n",
    "p"
   ]
  }
 ],
 "metadata": {
  "kernelspec": {
   "display_name": "Python 3",
   "language": "python",
   "name": "python3"
  },
  "language_info": {
   "codemirror_mode": {
    "name": "ipython",
    "version": 3
   },
   "file_extension": ".py",
   "mimetype": "text/x-python",
   "name": "python",
   "nbconvert_exporter": "python",
   "pygments_lexer": "ipython3",
   "version": "3.12.0"
  }
 },
 "nbformat": 4,
 "nbformat_minor": 2
}
