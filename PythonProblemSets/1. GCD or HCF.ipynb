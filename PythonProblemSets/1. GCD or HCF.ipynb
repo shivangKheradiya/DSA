{
  "cells": [
    {
      "cell_type": "markdown",
      "metadata": {
        "id": "QuptKMx3IaXd"
      },
      "source": [
        "GCD Will be in range from 1 to the minimum of all the given number. Here, we will use % operator(gives the remainer) functionality in the python."
      ]
    },
    {
      "cell_type": "code",
      "execution_count": 1,
      "metadata": {
        "id": "ARrzrIqe_IOl"
      },
      "outputs": [],
      "source": [
        "def gcd(m,n):\n",
        "  for i in range (1, min(m,n) + 1):\n",
        "    if (m%i) == 0 and (n %i) == 0:\n",
        "      result = i\n",
        "  return result"
      ]
    },
    {
      "cell_type": "markdown",
      "metadata": {},
      "source": [
        "Suppose d divies m and n\n",
        "- m = ad, n = bd\n",
        "- m - n = (a - b) d\n",
        "- d also devides m - n\n",
        "\n",
        "hence the recursive defination for gcd will be as follows:"
      ]
    },
    {
      "cell_type": "code",
      "execution_count": 2,
      "metadata": {},
      "outputs": [],
      "source": [
        "def gcd(m , n):\n",
        "  (a , b) = (max(m,n) , min(m,n))\n",
        "  if (a%b) == 0:\n",
        "    return b\n",
        "  else:\n",
        "  \treturn gcd(b, a-b)"
      ]
    },
    {
      "cell_type": "markdown",
      "metadata": {},
      "source": [
        "above program take time max(m,n)"
      ]
    },
    {
      "cell_type": "markdown",
      "metadata": {},
      "source": [
        "# Euclid's Algorithm\n",
        "\n",
        "- suppose n does not divide m\n",
        "- then m = qn + r\n",
        "- Suppose d divides both m and n\n",
        "- then m = ad, n = bd\n",
        "- m = qn + r => ad = q(bd) + r\n",
        "- let, r = cd\n",
        "\n",
        "check the below code"
      ]
    },
    {
      "cell_type": "code",
      "execution_count": 3,
      "metadata": {},
      "outputs": [],
      "source": [
        "def gcd(m , n):\n",
        "  (a , b) = (max(m,n) , min(m,n))\n",
        "  if (a%b) == 0:\n",
        "    return b\n",
        "  else:\n",
        "  \treturn gcd(b, a%b)"
      ]
    },
    {
      "cell_type": "markdown",
      "metadata": {},
      "source": [
        "- It takes time proportional to number of digits in max(m,n)\n",
        "- It's 1st non-trivial algorithm."
      ]
    }
  ],
  "metadata": {
    "colab": {
      "authorship_tag": "ABX9TyPI1CJMBTMVz2IBwVbwNbbS",
      "include_colab_link": true,
      "provenance": [],
      "toc_visible": true
    },
    "kernelspec": {
      "display_name": "Python 3",
      "name": "python3"
    },
    "language_info": {
      "codemirror_mode": {
        "name": "ipython",
        "version": 3
      },
      "file_extension": ".py",
      "mimetype": "text/x-python",
      "name": "python",
      "nbconvert_exporter": "python",
      "pygments_lexer": "ipython3",
      "version": "3.12.0"
    }
  },
  "nbformat": 4,
  "nbformat_minor": 0
}
