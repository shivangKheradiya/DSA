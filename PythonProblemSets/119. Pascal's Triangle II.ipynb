{
 "cells": [
  {
   "cell_type": "markdown",
   "metadata": {},
   "source": [
    "# 119. Pascal's Triangle II\n",
    "\n",
    "https://leetcode.com/problems/pascals-triangle-ii/"
   ]
  },
  {
   "cell_type": "code",
   "execution_count": null,
   "metadata": {},
   "outputs": [],
   "source": [
    "class Solution:\n",
    "    def getRow(self, rowIndex: int):\n",
    "      return self.generate(rowIndex + 1)[rowIndex]\n",
    "    def generate(self, numRows: int):\n",
    "      ans=[[1]]\n",
    "      for i in range(1,numRows):\n",
    "        ans.append([1])\n",
    "        for j in range(1,i):\n",
    "          ans[i].append(ans[i-1][j]+ans[i-1][j-1])\n",
    "        ans[i].append(1)\n",
    "      return ans"
   ]
  },
  {
   "cell_type": "code",
   "execution_count": null,
   "metadata": {},
   "outputs": [],
   "source": [
    "class Solution:\n",
    "    def getRow(self, rowIndex: int):\n",
    "      return self.generate(rowIndex + 1)[rowIndex]\n",
    "    \n",
    "    def generate(self, numRows: int):\n",
    "      if numRows > 2:\n",
    "        generatedOutput = self.generate(numRows-1)\n",
    "        previousRow = generatedOutput[numRows-2]\n",
    "        currentRow = [1]\n",
    "        lenPreviousRow = len(previousRow)\n",
    "        for i in range(lenPreviousRow-1):\n",
    "          currentRow.append(previousRow[i] + previousRow[i+1])\n",
    "        currentRow.append(1)\n",
    "        return generatedOutput + [currentRow]\n",
    "      elif numRows == 2:\n",
    "        return [[1],[1,1]]\n",
    "      elif numRows == 1:\n",
    "        return [[1]]"
   ]
  },
  {
   "cell_type": "markdown",
   "metadata": {},
   "source": [
    "There are some useful operators helping to place the list inside the sublist,"
   ]
  },
  {
   "cell_type": "code",
   "execution_count": null,
   "metadata": {},
   "outputs": [],
   "source": [
    "class Solution:\n",
    "  def getRow(self, n: int):\n",
    "    if n == 0:\n",
    "      return [1]\n",
    "    l = [[1]]\n",
    "    for i in range(1,n+1):\n",
    "      x = [0,*l[i-1],0] #it is helping to place the last element of l and create a list of only number\n",
    "      temp = []\n",
    "      for j in range(i+1):\n",
    "        val = x[j] + x[j+1]\n",
    "        temp.append(val)\n",
    "      l.append(temp)\n",
    "    return l[n]"
   ]
  },
  {
   "cell_type": "code",
   "execution_count": null,
   "metadata": {},
   "outputs": [],
   "source": [
    "x = Solution()\n",
    "ps = x.getRow(5)\n",
    "print(ps)"
   ]
  }
 ],
 "metadata": {
  "kernelspec": {
   "display_name": "Python 3",
   "language": "python",
   "name": "python3"
  },
  "language_info": {
   "codemirror_mode": {
    "name": "ipython",
    "version": 3
   },
   "file_extension": ".py",
   "mimetype": "text/x-python",
   "name": "python",
   "nbconvert_exporter": "python",
   "pygments_lexer": "ipython3",
   "version": "3.12.0"
  }
 },
 "nbformat": 4,
 "nbformat_minor": 2
}
