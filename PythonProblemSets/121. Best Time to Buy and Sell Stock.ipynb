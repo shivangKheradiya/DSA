{
 "cells": [
  {
   "cell_type": "markdown",
   "metadata": {},
   "source": [
    "# 121. Best Time to Buy and Sell Stock\n",
    "\n",
    "https://leetcode.com/problems/best-time-to-buy-and-sell-stock/description/"
   ]
  },
  {
   "cell_type": "code",
   "execution_count": null,
   "metadata": {},
   "outputs": [],
   "source": [
    "class Solution:\n",
    "  def maxProfit(self, prices) -> int:\n",
    "    max, min, maxProfit, pricesLen = 0, prices[0], 0, len(prices)\n",
    "    for i in range(1, pricesLen):\n",
    "      if prices[i] < min:\n",
    "        min, max = prices[i], prices[i]\n",
    "      elif prices[i] > max:\n",
    "        max = prices[i]\n",
    "      profit = max - min\n",
    "\n",
    "      if profit > maxProfit:\n",
    "        maxProfit = profit\n",
    "        \n",
    "    return maxProfit"
   ]
  },
  {
   "cell_type": "code",
   "execution_count": null,
   "metadata": {},
   "outputs": [],
   "source": [
    "x = Solution()\n",
    "prices = [7,1,5,3,6,4]\n",
    "p = x.maxProfit(prices)\n",
    "print(p)"
   ]
  },
  {
   "cell_type": "markdown",
   "metadata": {},
   "source": [
    "More simple code as follows,"
   ]
  },
  {
   "cell_type": "code",
   "execution_count": null,
   "metadata": {},
   "outputs": [],
   "source": [
    "class Solution:\n",
    "  def maxProfit(self, prices) -> int:\n",
    "    if not prices or len(prices) == 1:\n",
    "      return 0\n",
    "    \n",
    "    max_profit = 0\n",
    "    min_price = prices[0]\n",
    "    \n",
    "    for price in prices[1:]:\n",
    "      min_price = min(min_price, price)\n",
    "      max_profit = max(max_profit, price - min_price)\n",
    "    \n",
    "    return max_profit"
   ]
  }
 ],
 "metadata": {
  "kernelspec": {
   "display_name": "Python 3",
   "language": "python",
   "name": "python3"
  },
  "language_info": {
   "codemirror_mode": {
    "name": "ipython",
    "version": 3
   },
   "file_extension": ".py",
   "mimetype": "text/x-python",
   "name": "python",
   "nbconvert_exporter": "python",
   "pygments_lexer": "ipython3",
   "version": "3.12.0"
  }
 },
 "nbformat": 4,
 "nbformat_minor": 2
}
