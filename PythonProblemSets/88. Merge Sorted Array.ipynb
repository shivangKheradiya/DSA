{
 "cells": [
  {
   "cell_type": "markdown",
   "metadata": {},
   "source": [
    "# 88. Merge Sorted Array\n",
    "\n",
    "https://leetcode.com/problems/merge-sorted-array/"
   ]
  },
  {
   "cell_type": "code",
   "execution_count": null,
   "metadata": {},
   "outputs": [],
   "source": [
    "class Solution:\n",
    "  def merge(self, nums1, m: int, nums2, n: int) -> None:\n",
    "    \"\"\"\n",
    "    Do not return anything, modify nums1 in-place instead.\n",
    "    \"\"\"\n",
    "    mC, nC, addedFrom1, addedFrom2 = 0,0,0,0\n",
    "    mLen = len(nums1)\n",
    "    while mC < mLen:\n",
    "      if (nC<n and nums1[mC] >= nums2[nC]):\n",
    "        shift = nums1[mC:]\n",
    "        shift.pop()\n",
    "        nums1[mC+1:] = shift\n",
    "        nums1[mC] = nums2[nC]\n",
    "        nC+=1\n",
    "        addedFrom2+=1\n",
    "      elif(addedFrom1 == m and addedFrom2 != n):\n",
    "        nums1[mC] = nums2[nC]\n",
    "        nC+=1\n",
    "        addedFrom2+=1\n",
    "      else:\n",
    "        addedFrom1+=1\n",
    "      mC +=1"
   ]
  },
  {
   "cell_type": "code",
   "execution_count": null,
   "metadata": {},
   "outputs": [],
   "source": [
    "x = Solution()\n",
    "l1 = [1,2,3,0,0,0]\n",
    "l2 = [2,5,6]\n",
    "x.merge(l1,3,l2,3)\n",
    "print(l1)\n",
    "print(len(l1))"
   ]
  },
  {
   "cell_type": "code",
   "execution_count": null,
   "metadata": {},
   "outputs": [],
   "source": [
    "l1 = [-1,0,0,3,3,3,0,0,0]\n",
    "m = 6\n",
    "l2 = [1,2,2]\n",
    "n = 3\n",
    "x.merge(l1,m,l2,n)\n",
    "print(l1)"
   ]
  },
  {
   "cell_type": "markdown",
   "metadata": {},
   "source": [
    "As we know ***len(num1) = m + n***, We can start arranging the numbers from right side, "
   ]
  },
  {
   "cell_type": "code",
   "execution_count": null,
   "metadata": {},
   "outputs": [],
   "source": [
    "class Solution:\n",
    "  def merge(self, nums1, m: int, nums2, n: int) -> None:\n",
    "    \"\"\"\n",
    "    Do not return anything, modify nums1 in-place instead.\n",
    "    \"\"\"\n",
    "    end = m+n-1\n",
    "    p1 = m-1\n",
    "    p2 = n-1\n",
    "    while p1 >= 0  and p2 >= 0:\n",
    "      if nums1[p1] >= nums2[p2]:\n",
    "        nums1[end] = nums1[p1]\n",
    "        p1-=1\n",
    "      else:\n",
    "        nums1[end] = nums2[p2]\n",
    "        p2-=1\n",
    "      end-=1\n",
    "    \n",
    "    while p2 >= 0:\n",
    "      nums1[end] = nums2[p2]\n",
    "      p2-=1\n",
    "      end-=1"
   ]
  },
  {
   "cell_type": "markdown",
   "metadata": {},
   "source": [
    "Simplest Python implementations without DSA is,"
   ]
  },
  {
   "cell_type": "code",
   "execution_count": null,
   "metadata": {},
   "outputs": [],
   "source": [
    "class Solution:\n",
    "  def merge(self, nums1, m: int, nums2, n: int) -> None:\n",
    "    \"\"\"\n",
    "    Do not return anything, modify nums1 in-place instead.\n",
    "    \"\"\"\n",
    "    nums1[m:] = nums2\n",
    "    nums1.sort()"
   ]
  }
 ],
 "metadata": {
  "kernelspec": {
   "display_name": "Python 3",
   "language": "python",
   "name": "python3"
  },
  "language_info": {
   "codemirror_mode": {
    "name": "ipython",
    "version": 3
   },
   "file_extension": ".py",
   "mimetype": "text/x-python",
   "name": "python",
   "nbconvert_exporter": "python",
   "pygments_lexer": "ipython3",
   "version": "3.12.0"
  }
 },
 "nbformat": 4,
 "nbformat_minor": 2
}
