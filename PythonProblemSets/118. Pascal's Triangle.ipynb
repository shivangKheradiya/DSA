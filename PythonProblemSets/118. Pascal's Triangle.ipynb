{
 "cells": [
  {
   "cell_type": "markdown",
   "metadata": {},
   "source": [
    "# 118. Pascal's Triangle\n",
    "\n",
    "https://leetcode.com/problems/pascals-triangle/"
   ]
  },
  {
   "cell_type": "code",
   "execution_count": null,
   "metadata": {},
   "outputs": [],
   "source": [
    "class Solution:\n",
    "  def generate(self, numRows: int):\n",
    "    if numRows > 2:\n",
    "      generatedOutput = self.generate(numRows-1)\n",
    "      previousRow = generatedOutput[numRows-2]\n",
    "      currentRow = [1]\n",
    "      lenPreviousRow = len(previousRow)\n",
    "      for i in range(lenPreviousRow-1):\n",
    "        currentRow.append(previousRow[i] + previousRow[i+1])\n",
    "      currentRow.append(1)\n",
    "      return generatedOutput + [currentRow]\n",
    "    elif numRows == 2:\n",
    "      return [[1],[1,1]]\n",
    "    elif numRows == 1:\n",
    "      return [[1]]"
   ]
  },
  {
   "cell_type": "code",
   "execution_count": null,
   "metadata": {},
   "outputs": [],
   "source": [
    "x = Solution()\n",
    "pt = x.generate(5)\n",
    "print(pt)"
   ]
  },
  {
   "cell_type": "markdown",
   "metadata": {},
   "source": [
    "There is another method to avoid the recursion,"
   ]
  },
  {
   "cell_type": "code",
   "execution_count": null,
   "metadata": {},
   "outputs": [],
   "source": [
    "class Solution:\n",
    "  def generate(self, numRows: int):\n",
    "    ans=[[1]]\n",
    "    for i in range(1,numRows):\n",
    "      ans.append([1])\n",
    "      for j in range(1,i):\n",
    "        ans[i].append(ans[i-1][j]+ans[i-1][j-1])\n",
    "      ans[i].append(1)\n",
    "    return ans"
   ]
  }
 ],
 "metadata": {
  "kernelspec": {
   "display_name": "Python 3",
   "language": "python",
   "name": "python3"
  },
  "language_info": {
   "codemirror_mode": {
    "name": "ipython",
    "version": 3
   },
   "file_extension": ".py",
   "mimetype": "text/x-python",
   "name": "python",
   "nbconvert_exporter": "python",
   "pygments_lexer": "ipython3",
   "version": "3.12.0"
  }
 },
 "nbformat": 4,
 "nbformat_minor": 2
}
