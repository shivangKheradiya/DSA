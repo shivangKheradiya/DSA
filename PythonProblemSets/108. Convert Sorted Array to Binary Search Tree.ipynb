{
 "cells": [
  {
   "cell_type": "markdown",
   "metadata": {},
   "source": [
    "# 108. Convert Sorted Array to Binary Search Tree\n",
    "\n",
    "https://leetcode.com/problems/convert-sorted-array-to-binary-search-tree/"
   ]
  },
  {
   "cell_type": "code",
   "execution_count": null,
   "metadata": {},
   "outputs": [],
   "source": [
    "class TreeNode:\n",
    "  def __init__(self, val=0, left=None, right=None):\n",
    "    self.val = val\n",
    "    self.left = left\n",
    "    self.right = right\n",
    "\n",
    "class Solution:\n",
    "  def sortedArrayToBST(self, nums):\n",
    "    lenNums = len(nums)\n",
    "    treeNode = TreeNode()\n",
    "    midIdx = lenNums // 2\n",
    "    leftElms = nums[:midIdx]\n",
    "    rightElms = nums[midIdx+1:]\n",
    "    treeNode.val = nums[midIdx]\n",
    "    lenLeft = midIdx\n",
    "    lenRight = lenNums - midIdx - 1\n",
    "    if lenLeft==0:\n",
    "      pass\n",
    "    elif lenLeft==1:\n",
    "      treeNode.left = TreeNode(nums[0])\n",
    "    else:\n",
    "      treeNode.left = self.sortedArrayToBST(leftElms)\n",
    "\n",
    "    if lenRight==0:\n",
    "      pass\n",
    "    elif lenRight==1:\n",
    "      treeNode.right = TreeNode(nums[midIdx + 1])\n",
    "    else:\n",
    "      treeNode.right = self.sortedArrayToBST(rightElms)\n",
    "    return treeNode"
   ]
  },
  {
   "cell_type": "code",
   "execution_count": 2,
   "metadata": {},
   "outputs": [],
   "source": [
    "x = Solution()\n",
    "lst = [-10,-3,0,5,9]\n",
    "p = x.sortedArrayToBST(lst)"
   ]
  },
  {
   "cell_type": "code",
   "execution_count": 3,
   "metadata": {},
   "outputs": [],
   "source": [
    "lst = [3,5,8]\n",
    "p = x.sortedArrayToBST(lst)"
   ]
  },
  {
   "cell_type": "code",
   "execution_count": null,
   "metadata": {},
   "outputs": [],
   "source": [
    "lst = [-1,0,1,2]\n",
    "p = x.sortedArrayToBST(lst)"
   ]
  },
  {
   "cell_type": "markdown",
   "metadata": {},
   "source": [
    "Some more optimisation is possible,"
   ]
  },
  {
   "cell_type": "code",
   "execution_count": 1,
   "metadata": {},
   "outputs": [],
   "source": [
    "class TreeNode:\n",
    "  def __init__(self, val=0, left=None, right=None):\n",
    "    self.val = val\n",
    "    self.left = left\n",
    "    self.right = right\n",
    "\n",
    "class Solution:\n",
    "  def sortedArrayToBST(self, nums):\n",
    "    lenNums = len(nums)\n",
    "\n",
    "    treeNode = TreeNode()\n",
    "    if lenNums == 1:\n",
    "      treeNode.val = nums[0]\n",
    "      return treeNode\n",
    "    elif lenNums == 0:\n",
    "      return None\n",
    "\n",
    "    midIdx = lenNums // 2\n",
    "    leftElms = nums[:midIdx]\n",
    "    rightElms = nums[midIdx+1:]\n",
    "    treeNode.val = nums[midIdx]\n",
    "    treeNode.left = self.sortedArrayToBST(leftElms)\n",
    "    treeNode.right = self.sortedArrayToBST(rightElms)\n",
    "\n",
    "    return treeNode"
   ]
  }
 ],
 "metadata": {
  "kernelspec": {
   "display_name": "Python 3",
   "language": "python",
   "name": "python3"
  },
  "language_info": {
   "codemirror_mode": {
    "name": "ipython",
    "version": 3
   },
   "file_extension": ".py",
   "mimetype": "text/x-python",
   "name": "python",
   "nbconvert_exporter": "python",
   "pygments_lexer": "ipython3",
   "version": "3.12.0"
  }
 },
 "nbformat": 4,
 "nbformat_minor": 2
}
