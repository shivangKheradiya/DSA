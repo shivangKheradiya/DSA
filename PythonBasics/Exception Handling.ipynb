{
 "cells": [
  {
   "cell_type": "markdown",
   "metadata": {},
   "source": [
    "# Exception Handling\n",
    "\n",
    "Python flags the type of each error\n",
    "- **syntax error** e.g. SyntaxError: Invalid syntax\n",
    "- **Runtime Errors** e.g. NameRrror, ZeroDivisionError, IndexError\n",
    "\n",
    "Error are thrown in 2 part 1) Exception Tag, 2) Dignostic information\n",
    "\n",
    "We can do following actions for error:\n",
    "1) Raise an exception\n",
    "2) Handle an Exception\n",
    "3) Unhandled Exception aborts exception\n",
    "\n",
    "Syntax for the same is mentioned below:"
   ]
  },
  {
   "cell_type": "code",
   "execution_count": 1,
   "metadata": {},
   "outputs": [],
   "source": [
    "try:\n",
    "  pass\n",
    "except IndexError:\n",
    "  pass\n",
    "except (NameError, KeyError):\n",
    "  pass\n",
    "except: #default case\n",
    "  pass\n",
    "else: # if passed without error\n",
    "  pass"
   ]
  }
 ],
 "metadata": {
  "kernelspec": {
   "display_name": "Python 3",
   "language": "python",
   "name": "python3"
  },
  "language_info": {
   "codemirror_mode": {
    "name": "ipython",
    "version": 3
   },
   "file_extension": ".py",
   "mimetype": "text/x-python",
   "name": "python",
   "nbconvert_exporter": "python",
   "pygments_lexer": "ipython3",
   "version": "3.12.0"
  }
 },
 "nbformat": 4,
 "nbformat_minor": 2
}
