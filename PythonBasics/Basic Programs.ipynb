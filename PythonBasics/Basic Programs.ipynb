{
 "cells": [
  {
   "cell_type": "markdown",
   "metadata": {},
   "source": [
    "# Basic Programs"
   ]
  },
  {
   "cell_type": "markdown",
   "metadata": {},
   "source": [
    "## Factors"
   ]
  },
  {
   "cell_type": "code",
   "execution_count": null,
   "metadata": {},
   "outputs": [],
   "source": [
    "def factors(n):\n",
    "  f = []\n",
    "  for i in range(1, n+1):\n",
    "    # print(i)\n",
    "    if n % i == 0:\n",
    "      f.append(i)\n",
    "  return f"
   ]
  },
  {
   "cell_type": "code",
   "execution_count": null,
   "metadata": {},
   "outputs": [],
   "source": [
    "print(factors(6))"
   ]
  },
  {
   "cell_type": "markdown",
   "metadata": {},
   "source": [
    "# Prime Number\n",
    "\n",
    "Prime number is divisible by only 1 & number itself."
   ]
  },
  {
   "cell_type": "code",
   "execution_count": null,
   "metadata": {},
   "outputs": [],
   "source": [
    "def prime(n):\n",
    "  for i in range(2 , n):\n",
    "    if n%i ==0:\n",
    "      return False\n",
    "  return True"
   ]
  },
  {
   "cell_type": "code",
   "execution_count": null,
   "metadata": {},
   "outputs": [],
   "source": [
    "def prime(n):\n",
    "  return [1,n] == factors(n)"
   ]
  },
  {
   "cell_type": "code",
   "execution_count": null,
   "metadata": {},
   "outputs": [],
   "source": [
    "prime(6)"
   ]
  },
  {
   "cell_type": "code",
   "execution_count": null,
   "metadata": {},
   "outputs": [],
   "source": [
    "def prime(n):\n",
    "  return len(factors(n)) == 2"
   ]
  },
  {
   "cell_type": "code",
   "execution_count": null,
   "metadata": {},
   "outputs": [],
   "source": [
    "def primeListUpTo(n):\n",
    "  primeList = []\n",
    "  for i in range(1, n+1):\n",
    "    if (prime(i)):\n",
    "      primeList.append(i)\n",
    "  return primeList"
   ]
  },
  {
   "cell_type": "code",
   "execution_count": null,
   "metadata": {},
   "outputs": [],
   "source": [
    "primeListUpTo(101)"
   ]
  },
  {
   "cell_type": "code",
   "execution_count": null,
   "metadata": {},
   "outputs": [],
   "source": [
    "def primeListUpTo(n):\n",
    "  primeList , counter = [] , 1\n",
    "  while(counter < n+1):\n",
    "    if (prime(counter)):\n",
    "      primeList.append(counter)\n",
    "    counter += 1\n",
    "  return primeList"
   ]
  },
  {
   "cell_type": "code",
   "execution_count": null,
   "metadata": {},
   "outputs": [],
   "source": [
    "primeListFirst(15)"
   ]
  },
  {
   "cell_type": "code",
   "execution_count": null,
   "metadata": {},
   "outputs": [],
   "source": [
    "def primeListFirst(n):\n",
    "  primeList , number , primeIndex = [] , 1 , 0\n",
    "  while(primeIndex < n):\n",
    "    if (prime(number)):\n",
    "      primeList, primeIndex = primeList + [number], primeIndex + 1\n",
    "    number += 1\n",
    "  return primeList"
   ]
  },
  {
   "cell_type": "code",
   "execution_count": null,
   "metadata": {},
   "outputs": [],
   "source": [
    "def primeDiffInFirstnNumbers(n):\n",
    "  diff = []\n",
    "  primeList , counter = [] , 1\n",
    "  while(counter < n+1):\n",
    "    if (prime(counter)):\n",
    "      primeList.append(counter)\n",
    "      if len(primeList) > 1:\n",
    "        d = counter - primeList[-2]\n",
    "        if d not in diff:\n",
    "          diff.append(d)\n",
    "    counter += 1\n",
    "  return diff"
   ]
  },
  {
   "cell_type": "code",
   "execution_count": null,
   "metadata": {},
   "outputs": [],
   "source": [
    "primeDiffInFirstnNumbers(101)"
   ]
  },
  {
   "cell_type": "markdown",
   "metadata": {},
   "source": [
    "Efficient Technique (sqrt n)"
   ]
  },
  {
   "cell_type": "code",
   "execution_count": null,
   "metadata": {},
   "outputs": [],
   "source": [
    "from math import sqrt \n",
    "\n",
    "def isPrime(n): \n",
    "  \n",
    "  if (n <= 1): \n",
    "    return False\n",
    "  \n",
    "  # Check from 2 to sqrt(n) \n",
    "  for i in range(2, int(sqrt(n))+1): \n",
    "    if (n % i == 0): \n",
    "      return False\n",
    "  \n",
    "  return True"
   ]
  },
  {
   "cell_type": "markdown",
   "metadata": {},
   "source": [
    "# Swape the number"
   ]
  },
  {
   "cell_type": "code",
   "execution_count": null,
   "metadata": {},
   "outputs": [],
   "source": [
    "def swap(m,n):\n",
    "  m, n = n, m\n",
    "  print(str(m), ' ', str(n))"
   ]
  },
  {
   "cell_type": "code",
   "execution_count": null,
   "metadata": {},
   "outputs": [],
   "source": [
    "x = 6\n",
    "y = 7\n",
    "swap(x,y)\n",
    "print(str(x), ' ', str(y))"
   ]
  },
  {
   "cell_type": "markdown",
   "metadata": {},
   "source": [
    "# GCD or HCF"
   ]
  },
  {
   "cell_type": "code",
   "execution_count": null,
   "metadata": {},
   "outputs": [],
   "source": [
    "def gcd(m,n):\n",
    "  j = 1\n",
    "  for i in range(1, min(m,n)+1):\n",
    "    if (m%i ==0) and (n%i==0):\n",
    "      j = i\n",
    "  return j"
   ]
  },
  {
   "cell_type": "code",
   "execution_count": null,
   "metadata": {},
   "outputs": [],
   "source": [
    "print(gcd(8,4))\n",
    "print(gcd(126,112))"
   ]
  },
  {
   "cell_type": "code",
   "execution_count": null,
   "metadata": {},
   "outputs": [],
   "source": [
    "def gcd(m,n):\n",
    "  j = 1\n",
    "  for i in range(1, min(m,n)+1):\n",
    "    if (m%i ==0) and (n%i==0):\n",
    "      j = i\n",
    "  return j"
   ]
  },
  {
   "cell_type": "markdown",
   "metadata": {},
   "source": [
    "Recursive Solution based on ***m - n = (a-b) d***"
   ]
  },
  {
   "cell_type": "code",
   "execution_count": null,
   "metadata": {},
   "outputs": [],
   "source": [
    "def gcd(m,n):\n",
    "  a , b = max(m,n) , min(m,n)\n",
    "  if a%b == 0:\n",
    "    return b\n",
    "  else:\n",
    "    return gcd(b, a-b )"
   ]
  },
  {
   "cell_type": "markdown",
   "metadata": {},
   "source": [
    "Euclid's Algorithm,"
   ]
  },
  {
   "cell_type": "code",
   "execution_count": null,
   "metadata": {},
   "outputs": [],
   "source": [
    "def gcd(m,n):\n",
    "  a , b = max(m,n) , min(m,n)\n",
    "  if a%b == 0:\n",
    "    return b\n",
    "  else:\n",
    "    return gcd(b, a%b )"
   ]
  }
 ],
 "metadata": {
  "kernelspec": {
   "display_name": "Python 3",
   "language": "python",
   "name": "python3"
  },
  "language_info": {
   "codemirror_mode": {
    "name": "ipython",
    "version": 3
   },
   "file_extension": ".py",
   "mimetype": "text/x-python",
   "name": "python",
   "nbconvert_exporter": "python",
   "pygments_lexer": "ipython3",
   "version": "3.12.0"
  }
 },
 "nbformat": 4,
 "nbformat_minor": 2
}
