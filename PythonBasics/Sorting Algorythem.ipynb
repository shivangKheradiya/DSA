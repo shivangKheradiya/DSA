{
 "cells": [
  {
   "cell_type": "markdown",
   "metadata": {},
   "source": [
    "# Sorting\n",
    "\n",
    "Sorting a list makes many other computations easier, \n",
    "- Binary Search\n",
    "- Finding the Median\n",
    "- Checking for duplicates\n",
    "- Bulding a frequency table of values"
   ]
  },
  {
   "cell_type": "markdown",
   "metadata": {},
   "source": [
    "# Selection Sort : O(N<sup>2</sup>)\n",
    "\n",
    "## T(n) = n + ( n - 1 ) + ...... + 2 + 1 = n ( n - 1 ) / 2 ~ O(n<sup>2</sup>)\n",
    "\n",
    "![SelectionSort](img/SelectionShort.gif)"
   ]
  },
  {
   "cell_type": "code",
   "execution_count": null,
   "metadata": {},
   "outputs": [],
   "source": [
    "def SelectionSort(L):\n",
    "  n = len(L)\n",
    "  if n < 1:\n",
    "    return(L)\n",
    "  for curser1 in range(n):\n",
    "    mpos = curser1\n",
    "    for curser2 in range(curser1 + 1, n):\n",
    "      if L[curser2] < L[mpos]:\n",
    "        mpos = curser2\n",
    "    ( L[curser1] , L[mpos] ) = ( L[mpos] , L[curser1] )\n",
    "  return L"
   ]
  },
  {
   "cell_type": "code",
   "execution_count": null,
   "metadata": {},
   "outputs": [],
   "source": [
    "l = [2,5,7,9, 6 , 3,0,4,1]\n",
    "print(SelectionSort(l))"
   ]
  },
  {
   "cell_type": "markdown",
   "metadata": {},
   "source": [
    "# Insertion Sort : O(N<sup>2</sup>)\n",
    "\n",
    "## T(n) = n + ( n - 1 ) + ...... + 2 + 1 = n ( n - 1 ) / 2 ~ O(n<sup>2</sup>)\n",
    "\n",
    "![InsertionSort](img/Insertion-sort-example.gif)"
   ]
  },
  {
   "cell_type": "code",
   "execution_count": null,
   "metadata": {},
   "outputs": [],
   "source": [
    "def InsertionSort(L):\n",
    "  n = len(L)\n",
    "  if n < 1:\n",
    "    return(L)\n",
    "  for curser1 in range(n):\n",
    "    curser2 = curser1\n",
    "    while(curser2 > 0 and L[curser2] < L[curser2 - 1] ):\n",
    "      ( L[curser2] , L[curser2 - 1] ) = ( L[curser2 - 1] , L[curser2] )\n",
    "      curser2 -= 1\n",
    "  return L"
   ]
  },
  {
   "cell_type": "code",
   "execution_count": null,
   "metadata": {},
   "outputs": [],
   "source": [
    "l = [2,5,7,9, 6 , 3,0,4,1]\n",
    "print(InsertionSort(l))"
   ]
  },
  {
   "cell_type": "markdown",
   "metadata": {},
   "source": [
    "Recursive Algorithm"
   ]
  },
  {
   "cell_type": "code",
   "execution_count": null,
   "metadata": {},
   "outputs": [],
   "source": [
    "def ISort(L):\n",
    "  n = len(L)\n",
    "  if n < 1:\n",
    "    return(L)\n",
    "  L = Insert( ISort(L[:-1]) , L[-1] )\n",
    "  return L\n",
    "\n",
    "def Insert(L,v):\n",
    "  n = len(L)\n",
    "  if n == 0:\n",
    "    return [v]\n",
    "  if v >= L[-1]:\n",
    "    return ( L + [v] )\n",
    "  else:\n",
    "    return ( Insert( L[:-1], v ) + L[-1:] )"
   ]
  },
  {
   "cell_type": "code",
   "execution_count": null,
   "metadata": {},
   "outputs": [],
   "source": [
    "l = [2,5,7,9,6,3,0,4,1]\n",
    "print(ISort(l))"
   ]
  },
  {
   "cell_type": "markdown",
   "metadata": {},
   "source": [
    "# Merge Sort : O(N<sup>2</sup>)\n",
    "\n",
    "![MergeSort](img/Merge-sort-example.gif) "
   ]
  },
  {
   "cell_type": "code",
   "execution_count": null,
   "metadata": {},
   "outputs": [],
   "source": [
    "def merge(A,B):\n",
    "  (m,n) = (len(A), len(B))\n",
    "  (C,i,j,k) = ([],0,0,0)\n",
    "  while k < m+n:\n",
    "    if i == m:\n",
    "      C.extend(B[j:])\n",
    "      k += (n-j)\n",
    "    elif j == n:\n",
    "      C.extend(A[i:])\n",
    "      k += (n - i)\n",
    "    elif A[i] < B[j]:\n",
    "      C.append(A[i])\n",
    "      (i,k) = (i+1 , k+1)\n",
    "    else:\n",
    "      C.append(B[j])\n",
    "      (j,k) = (j+1 , k+1)\n",
    "  return C"
   ]
  },
  {
   "cell_type": "code",
   "execution_count": null,
   "metadata": {},
   "outputs": [],
   "source": [
    "l = [1,2,3,5,6] \n",
    "print(l[1:3])\n",
    "b = [0,7,8,9]\n",
    "print(merge(b,l))\n"
   ]
  },
  {
   "cell_type": "markdown",
   "metadata": {},
   "source": [
    "Merging process mentioned above takes O(m+n) = O(max(m,n)) ~ O(n)"
   ]
  },
  {
   "cell_type": "code",
   "execution_count": null,
   "metadata": {},
   "outputs": [],
   "source": [
    "def MergeSort(L):\n",
    "  n = len(L)\n",
    "\n",
    "  if n <= 1:\n",
    "    return(L)\n",
    "  \n",
    "  Llist = MergeSort(L[:(n//2)])\n",
    "  Rlist = MergeSort(L[n//2:])\n",
    "\n",
    "  return merge(Llist,Rlist)"
   ]
  },
  {
   "cell_type": "code",
   "execution_count": null,
   "metadata": {},
   "outputs": [],
   "source": [
    "l = [2,5,7,9,6,3,0,4,1]\n",
    "print(MergeSort(l))"
   ]
  },
  {
   "cell_type": "markdown",
   "metadata": {},
   "source": [
    "for the merging process Big(O) Analysis will be as follows,\n",
    "- T(1) = 1\n",
    "- T(n) = 2 T(n/2) + T(Mering process) = 2 T(n/2) + n \n",
    "\n",
    "By using series expansion,\n",
    "- T(n) = 2<sup>k</sup> T ( n/2<sup>k</sup>) + kn \n",
    "Where, k = log n, T ( n/2<sup>k</sup>) = 1 for T(1) = 1\n",
    "- T(n) = 2<sup>log n</sup> (1) + (log n) n = O(n log n)"
   ]
  },
  {
   "cell_type": "markdown",
   "metadata": {},
   "source": [
    "Problems we can see are as follows,\n",
    "- A + B\n",
    "- A Intersect B\n",
    "- A - B\n",
    "\n",
    "Disadvantages:\n",
    "- no obvious to efficiently merge\n",
    "- Extra list is costly\n",
    "- We have to use recursion"
   ]
  }
 ],
 "metadata": {
  "kernelspec": {
   "display_name": "Python 3",
   "language": "python",
   "name": "python3"
  },
  "language_info": {
   "codemirror_mode": {
    "name": "ipython",
    "version": 3
   },
   "file_extension": ".py",
   "mimetype": "text/x-python",
   "name": "python",
   "nbconvert_exporter": "python",
   "pygments_lexer": "ipython3",
   "version": "3.12.0"
  }
 },
 "nbformat": 4,
 "nbformat_minor": 2
}
