{
 "cells": [
  {
   "cell_type": "markdown",
   "metadata": {},
   "source": [
    "# Classes And Objects"
   ]
  },
  {
   "cell_type": "code",
   "execution_count": 1,
   "metadata": {},
   "outputs": [],
   "source": [
    "class Point:\n",
    "\t\n",
    "\tdef __init__(self, a = 0, b = 0):\n",
    "\t\tself.x = a\n",
    "\t\tself.y = b\n",
    "\t\t\n",
    "\tdef translate(self,dx, dy):\n",
    "\t\tself.x += dx\n",
    "\t\tself.y += dy\n",
    "\t\n",
    "\tdef oDistance(self):\n",
    "\t\timport math\n",
    "\t\td = math.sqrt(self.x*self.x + self.y*self.y)\n",
    "\t\treturn d"
   ]
  },
  {
   "cell_type": "markdown",
   "metadata": {},
   "source": [
    "Another way to impliment the class is as follows,"
   ]
  },
  {
   "cell_type": "code",
   "execution_count": 3,
   "metadata": {},
   "outputs": [],
   "source": [
    "import math\n",
    "class Point:\n",
    "\n",
    "  def __init__(self, a = 0, b = 0):\n",
    "    self.r = math.sqrt(a*a+b*b)\n",
    "    if a == 0:\n",
    "      self.theta = math.pi / 2\n",
    "    else:\n",
    "      self.theta = math.atan(b/a)\n",
    "  \n",
    "  def oDistance(self):\n",
    "    return (self.r)\n",
    "  \n",
    "  def translate(self, dx, dy):\n",
    "    x = self.r * math.cos(self.theta)\n",
    "    y = self.r * math.sin(self.theta)\n",
    "    x += dx\n",
    "    y += dy\n",
    "    self.r = math.sqrt(x*x + y*y)\n",
    "    if x == 0:\n",
    "      self.theta = math.pi / 2\n",
    "    else:\n",
    "      self.theta = math.atan(y/x)\n"
   ]
  },
  {
   "cell_type": "markdown",
   "metadata": {},
   "source": [
    "There are certian constructurs available which can be utilised for easeness are as follows,"
   ]
  },
  {
   "cell_type": "code",
   "execution_count": 6,
   "metadata": {},
   "outputs": [],
   "source": [
    "class Point:\n",
    "\t\n",
    "  def __init__(self, a = 0, b = 0):\n",
    "    self.x = a\n",
    "    self.y = b\n",
    "\n",
    "  def __add__(self, p): # used for +\n",
    "    \"\"\"It's used for the addition of the point to current point\"\"\"\n",
    "    return (Point(self.x + p.x , self.y + p.y))\n",
    "  \n",
    "  def __str__(self) -> str:\n",
    "    return ('(' + str(self.x) + ',' + str(self.y)  + ')')\n",
    "\n",
    "  def translate(self,dx, dy):\n",
    "    self.x += dx\n",
    "    self.y += dy\n",
    "\t\n",
    "  def oDistance(self):\n",
    "    import math\n",
    "    d = math.sqrt(self.x*self.x + self.y*self.y)\n",
    "    return d\n",
    "\n",
    "  def __mult__(self): # used for *\n",
    "    pass\n",
    "  def __lt__(self): # used for <\n",
    "    pass\n",
    "  def __gt__(self): # used for >\n",
    "    pass\n",
    "  def __ge__(self): # used for >=\n",
    "    pass\n",
    "  def __le__(self): # used for <=\n",
    "    pass\n",
    "  def __eq__(self): # used for =\n",
    "    pass"
   ]
  }
 ],
 "metadata": {
  "kernelspec": {
   "display_name": "Python 3",
   "language": "python",
   "name": "python3"
  },
  "language_info": {
   "codemirror_mode": {
    "name": "ipython",
    "version": 3
   },
   "file_extension": ".py",
   "mimetype": "text/x-python",
   "name": "python",
   "nbconvert_exporter": "python",
   "pygments_lexer": "ipython3",
   "version": "3.12.0"
  }
 },
 "nbformat": 4,
 "nbformat_minor": 2
}
