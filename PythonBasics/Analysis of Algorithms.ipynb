{
 "cells": [
  {
   "cell_type": "markdown",
   "metadata": {},
   "source": [
    "# Big O Complexity\n",
    "\n",
    "Complexity Function O = Function (Sample Size) => O(N)\n",
    "\n",
    "Aproximatly, Number of Steps for given sample is as follows:\n",
    "\n",
    "O(n) proportional to log n , 1 , n , n log n , n<sup>2</sup> , n<sup>3</sup> , 2<sup>n</sup> , n!\n",
    "\n",
    "![BigOComplexity](img/BigOComplexity.png)\n",
    "\n",
    "In Every type of analysis, mainly focus is on the worst case scenario e.g. when sample size becomes too large (theoratically infinite). So, the term comes in the mind is asymptot. hence, the complexity of the algorythem is measured in terms of asymptotic complexity (O)."
   ]
  },
  {
   "cell_type": "markdown",
   "metadata": {},
   "source": [
    "## Mathamaticel defination of Asymptotic complexity\n",
    "\n",
    "## Upper Bound\n",
    "\n",
    "***f(x)*** is said to be ***O(g(x))*** if we can find constants ***c*** and ***x<sub>0</sub>*** such that ***c g(x)*** is an upper bound for ***f(x)*** for all ***x*** beyond ***x<sub>0</sub>***.\n",
    "\n",
    "- ***f(x) <= cg(x) for every x >= x<sub>0</sub>***\n",
    "\n",
    "Typical graphical representation for the same is shown below:\n",
    "\n",
    "![GraphForBigOComplexity](img/Big-O-notation.png)"
   ]
  },
  {
   "cell_type": "markdown",
   "metadata": {},
   "source": [
    "### Useful Properties\n",
    "\n",
    "- ***f<sub>1</sub>(n) + f<sub>2</sub>(n) ==> O( f<sub>1</sub> (n) ) + O( f<sub>2</sub> (n) ) <= O( max( g<sub>1</sub> (n), g<sub>2</sub> (n) )***"
   ]
  },
  {
   "cell_type": "markdown",
   "metadata": {},
   "source": [
    "## Lower Bound\n",
    "\n",
    "***f(x)*** is said to be ***Omega(g(x))*** if we can find constants ***c*** and ***x<sub>0</sub>*** such that ***c g(x)*** is an lower bound for ***f(x)*** for all ***x*** beyond ***x<sub>0</sub>***.\n",
    "\n",
    "- ***f(x) >= cg(x) for every x >= x<sub>0</sub>***"
   ]
  },
  {
   "cell_type": "markdown",
   "metadata": {},
   "source": [
    "## Tight Bound\n",
    "\n",
    "***f(x)*** is said to be ***Theta(g(x))*** if it is both ***O(g(x))*** and ***Omega(g(x))***. \n",
    "\n",
    "- find constants ***c<sub>1</sub>***, ***c<sub>2</sub>***, ***x<sub>0</sub>*** such that ***c<sub>1</sub> g(x) <= f(x) <= c<sub>2</sub> g(x)*** for all ***x*** beyond ***x<sub>0</sub>***.\n",
    "\n",
    "- ***f(x) >= cg(x) for every x >= x<sub>0</sub>***"
   ]
  }
 ],
 "metadata": {
  "kernelspec": {
   "display_name": "Python 3",
   "language": "python",
   "name": "python3"
  },
  "language_info": {
   "name": "python",
   "version": "3.12.0"
  }
 },
 "nbformat": 4,
 "nbformat_minor": 2
}
