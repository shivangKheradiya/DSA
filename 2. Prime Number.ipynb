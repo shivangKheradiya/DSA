{
 "cells": [
  {
   "cell_type": "markdown",
   "metadata": {},
   "source": [
    "# Prime Number:\n",
    "A number n has exectly two factors 1 and n. Smallest prime number is 2."
   ]
  },
  {
   "cell_type": "code",
   "execution_count": 1,
   "metadata": {},
   "outputs": [],
   "source": [
    "def factors(n):\n",
    "  factorsList = []\n",
    "  for i in range (1, n + 1):\n",
    "    if (n %i) == 0:\n",
    "      factorsList.append(i)\n",
    "  return factorsList"
   ]
  },
  {
   "cell_type": "code",
   "execution_count": 2,
   "metadata": {},
   "outputs": [],
   "source": [
    "def prime(n):\n",
    "  return (factors(n)==[1,n])"
   ]
  },
  {
   "cell_type": "code",
   "execution_count": 3,
   "metadata": {},
   "outputs": [],
   "source": [
    "def primeUpto(m):\n",
    "  primeList = []\n",
    "  for i in range(1, m+1):\n",
    "    if prime(i):\n",
    "      primeList.append(i)\n",
    "  return primeList  "
   ]
  },
  {
   "cell_type": "code",
   "execution_count": 4,
   "metadata": {},
   "outputs": [],
   "source": [
    "def firstPrimes(m):\n",
    "  ( count, i, primeList ) = ( 0 , 1 , [] )\n",
    "  while(count <m):\n",
    "    if prime(m):\n",
    "      ( count, primeList ) = ( count + 1 ,  primeList + [i] )\n",
    "    i += 1\n",
    "  return primeList"
   ]
  },
  {
   "cell_type": "markdown",
   "metadata": {},
   "source": [
    "one more way to optimise the finding the prime number."
   ]
  },
  {
   "cell_type": "code",
   "execution_count": 5,
   "metadata": {},
   "outputs": [],
   "source": [
    "def prime(n):\n",
    "  result = True\n",
    "  for i in range (2, n):\n",
    "    if (n%i) == 0:\n",
    "      result = False\n",
    "      break\n",
    "  return (result)"
   ]
  },
  {
   "cell_type": "markdown",
   "metadata": {},
   "source": [
    "for the above function we can use while loop."
   ]
  },
  {
   "cell_type": "code",
   "execution_count": 6,
   "metadata": {},
   "outputs": [],
   "source": [
    "def prime(n):\n",
    "  (result , i) = (True , 2)\n",
    "  while(result and i < n):\n",
    "    if (n%i) == 0:\n",
    "      result = False\n",
    "    i += 1\n",
    "  return (result)"
   ]
  },
  {
   "cell_type": "markdown",
   "metadata": {},
   "source": [
    "There is a series which we can use to reduce the time complexity."
   ]
  },
  {
   "cell_type": "code",
   "execution_count": 7,
   "metadata": {},
   "outputs": [],
   "source": [
    "import math\n",
    "def prime(n):\n",
    "  (result , i) = (True , 2)\n",
    "  while(result and i < math.sqrt(n)):\n",
    "    if (n%i) == 0:\n",
    "      result = False\n",
    "    i += 1\n",
    "  return (result)"
   ]
  },
  {
   "cell_type": "markdown",
   "metadata": {},
   "source": [
    "Properties of prime:\n",
    "- There are infinityly many primes.\n",
    "- how are the primes distributed?\n",
    "- Twin Primes ( p , p + 2 ) : e.g. [5,7] , ... \n",
    "- Twin prime conjucature: There are infinitely many twin primes"
   ]
  },
  {
   "cell_type": "markdown",
   "metadata": {},
   "source": [
    "Compute the difeerence between the primes: Use dictionary to track it."
   ]
  },
  {
   "cell_type": "code",
   "execution_count": 8,
   "metadata": {},
   "outputs": [],
   "source": [
    "def primedifftill(n):\n",
    "  lastprime = 2\n",
    "  primedict = {}\n",
    "  for i in range (3, n+1):\n",
    "    if prime(i):\n",
    "      d = i - lastprime\n",
    "      lastprime = i\n",
    "      if d in primedict.keys():\n",
    "        primedict[d] += 1\n",
    "      else:\n",
    "        primedict[d] = 1\n",
    "  return primedict"
   ]
  }
 ],
 "metadata": {
  "kernelspec": {
   "display_name": "Python 3",
   "language": "python",
   "name": "python3"
  },
  "language_info": {
   "codemirror_mode": {
    "name": "ipython",
    "version": 3
   },
   "file_extension": ".py",
   "mimetype": "text/x-python",
   "name": "python",
   "nbconvert_exporter": "python",
   "pygments_lexer": "ipython3",
   "version": "3.12.0"
  }
 },
 "nbformat": 4,
 "nbformat_minor": 2
}
